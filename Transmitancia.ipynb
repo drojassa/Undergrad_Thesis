{
  "nbformat": 4,
  "nbformat_minor": 0,
  "metadata": {
    "colab": {
      "provenance": [],
      "authorship_tag": "ABX9TyMeVXRivCykg6HKjZFOeWpo",
      "include_colab_link": true
    },
    "kernelspec": {
      "name": "python3",
      "display_name": "Python 3"
    },
    "language_info": {
      "name": "python"
    },
    "widgets": {
      "application/vnd.jupyter.widget-state+json": {
        "3e8da812326e497daa75c90c4c5979b4": {
          "model_module": "@jupyter-widgets/controls",
          "model_name": "VBoxModel",
          "model_module_version": "1.5.0",
          "state": {
            "_dom_classes": [
              "widget-interact"
            ],
            "_model_module": "@jupyter-widgets/controls",
            "_model_module_version": "1.5.0",
            "_model_name": "VBoxModel",
            "_view_count": null,
            "_view_module": "@jupyter-widgets/controls",
            "_view_module_version": "1.5.0",
            "_view_name": "VBoxView",
            "box_style": "",
            "children": [
              "IPY_MODEL_e4315a89698a470a8aea45262e9ad634",
              "IPY_MODEL_74964114c2ad4a5885e52cb92f9d4ab6",
              "IPY_MODEL_4f49d2d8e6db494484d5e783f6402029",
              "IPY_MODEL_98ba7eb9898f4f42a3afb07e9cb01c99"
            ],
            "layout": "IPY_MODEL_ee79c218f71b4b31a1245909c412129f"
          }
        },
        "e4315a89698a470a8aea45262e9ad634": {
          "model_module": "@jupyter-widgets/controls",
          "model_name": "FloatSliderModel",
          "model_module_version": "1.5.0",
          "state": {
            "_dom_classes": [],
            "_model_module": "@jupyter-widgets/controls",
            "_model_module_version": "1.5.0",
            "_model_name": "FloatSliderModel",
            "_view_count": null,
            "_view_module": "@jupyter-widgets/controls",
            "_view_module_version": "1.5.0",
            "_view_name": "FloatSliderView",
            "continuous_update": true,
            "description": "E0",
            "description_tooltip": null,
            "disabled": false,
            "layout": "IPY_MODEL_bbac315f58d44b8a94645a95a6aa4769",
            "max": 50,
            "min": 1,
            "orientation": "horizontal",
            "readout": true,
            "readout_format": ".2f",
            "step": 0.1,
            "style": "IPY_MODEL_50bc100bdae24a1b97bc402f3e7bdf44",
            "value": 4.28
          }
        },
        "74964114c2ad4a5885e52cb92f9d4ab6": {
          "model_module": "@jupyter-widgets/controls",
          "model_name": "FloatSliderModel",
          "model_module_version": "1.5.0",
          "state": {
            "_dom_classes": [],
            "_model_module": "@jupyter-widgets/controls",
            "_model_module_version": "1.5.0",
            "_model_name": "FloatSliderModel",
            "_view_count": null,
            "_view_module": "@jupyter-widgets/controls",
            "_view_module_version": "1.5.0",
            "_view_name": "FloatSliderView",
            "continuous_update": true,
            "description": "Ed",
            "description_tooltip": null,
            "disabled": false,
            "layout": "IPY_MODEL_41bef5ed5263406884d9184cc5ebf57a",
            "max": 50,
            "min": 1,
            "orientation": "horizontal",
            "readout": true,
            "readout_format": ".2f",
            "step": 0.25,
            "style": "IPY_MODEL_b4f6d7a784fa44dbaaf475e39092941a",
            "value": 3.6
          }
        },
        "4f49d2d8e6db494484d5e783f6402029": {
          "model_module": "@jupyter-widgets/controls",
          "model_name": "FloatSliderModel",
          "model_module_version": "1.5.0",
          "state": {
            "_dom_classes": [],
            "_model_module": "@jupyter-widgets/controls",
            "_model_module_version": "1.5.0",
            "_model_name": "FloatSliderModel",
            "_view_count": null,
            "_view_module": "@jupyter-widgets/controls",
            "_view_module_version": "1.5.0",
            "_view_name": "FloatSliderView",
            "continuous_update": true,
            "description": "d1",
            "description_tooltip": null,
            "disabled": false,
            "layout": "IPY_MODEL_6afb01dd396c46798990debda1d7676e",
            "max": 5000,
            "min": 100,
            "orientation": "horizontal",
            "readout": true,
            "readout_format": ".2f",
            "step": 1,
            "style": "IPY_MODEL_0f010471b8d3423cad07139f08c61e46",
            "value": 2175
          }
        },
        "98ba7eb9898f4f42a3afb07e9cb01c99": {
          "model_module": "@jupyter-widgets/output",
          "model_name": "OutputModel",
          "model_module_version": "1.0.0",
          "state": {
            "_dom_classes": [],
            "_model_module": "@jupyter-widgets/output",
            "_model_module_version": "1.0.0",
            "_model_name": "OutputModel",
            "_view_count": null,
            "_view_module": "@jupyter-widgets/output",
            "_view_module_version": "1.0.0",
            "_view_name": "OutputView",
            "layout": "IPY_MODEL_2d1bdf9d649a4250b1240cad08d39af0",
            "msg_id": "",
            "outputs": [
              {
                "output_type": "display_data",
                "data": {
                  "text/plain": "<Figure size 864x576 with 1 Axes>",
                  "image/png": "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\n"
                },
                "metadata": {
                  "needs_background": "light"
                }
              }
            ]
          }
        },
        "ee79c218f71b4b31a1245909c412129f": {
          "model_module": "@jupyter-widgets/base",
          "model_name": "LayoutModel",
          "model_module_version": "1.2.0",
          "state": {
            "_model_module": "@jupyter-widgets/base",
            "_model_module_version": "1.2.0",
            "_model_name": "LayoutModel",
            "_view_count": null,
            "_view_module": "@jupyter-widgets/base",
            "_view_module_version": "1.2.0",
            "_view_name": "LayoutView",
            "align_content": null,
            "align_items": null,
            "align_self": null,
            "border": null,
            "bottom": null,
            "display": null,
            "flex": null,
            "flex_flow": null,
            "grid_area": null,
            "grid_auto_columns": null,
            "grid_auto_flow": null,
            "grid_auto_rows": null,
            "grid_column": null,
            "grid_gap": null,
            "grid_row": null,
            "grid_template_areas": null,
            "grid_template_columns": null,
            "grid_template_rows": null,
            "height": null,
            "justify_content": null,
            "justify_items": null,
            "left": null,
            "margin": null,
            "max_height": null,
            "max_width": null,
            "min_height": null,
            "min_width": null,
            "object_fit": null,
            "object_position": null,
            "order": null,
            "overflow": null,
            "overflow_x": null,
            "overflow_y": null,
            "padding": null,
            "right": null,
            "top": null,
            "visibility": null,
            "width": null
          }
        },
        "bbac315f58d44b8a94645a95a6aa4769": {
          "model_module": "@jupyter-widgets/base",
          "model_name": "LayoutModel",
          "model_module_version": "1.2.0",
          "state": {
            "_model_module": "@jupyter-widgets/base",
            "_model_module_version": "1.2.0",
            "_model_name": "LayoutModel",
            "_view_count": null,
            "_view_module": "@jupyter-widgets/base",
            "_view_module_version": "1.2.0",
            "_view_name": "LayoutView",
            "align_content": null,
            "align_items": null,
            "align_self": null,
            "border": null,
            "bottom": null,
            "display": null,
            "flex": null,
            "flex_flow": null,
            "grid_area": null,
            "grid_auto_columns": null,
            "grid_auto_flow": null,
            "grid_auto_rows": null,
            "grid_column": null,
            "grid_gap": null,
            "grid_row": null,
            "grid_template_areas": null,
            "grid_template_columns": null,
            "grid_template_rows": null,
            "height": null,
            "justify_content": null,
            "justify_items": null,
            "left": null,
            "margin": null,
            "max_height": null,
            "max_width": null,
            "min_height": null,
            "min_width": null,
            "object_fit": null,
            "object_position": null,
            "order": null,
            "overflow": null,
            "overflow_x": null,
            "overflow_y": null,
            "padding": null,
            "right": null,
            "top": null,
            "visibility": null,
            "width": null
          }
        },
        "50bc100bdae24a1b97bc402f3e7bdf44": {
          "model_module": "@jupyter-widgets/controls",
          "model_name": "SliderStyleModel",
          "model_module_version": "1.5.0",
          "state": {
            "_model_module": "@jupyter-widgets/controls",
            "_model_module_version": "1.5.0",
            "_model_name": "SliderStyleModel",
            "_view_count": null,
            "_view_module": "@jupyter-widgets/base",
            "_view_module_version": "1.2.0",
            "_view_name": "StyleView",
            "description_width": "",
            "handle_color": null
          }
        },
        "41bef5ed5263406884d9184cc5ebf57a": {
          "model_module": "@jupyter-widgets/base",
          "model_name": "LayoutModel",
          "model_module_version": "1.2.0",
          "state": {
            "_model_module": "@jupyter-widgets/base",
            "_model_module_version": "1.2.0",
            "_model_name": "LayoutModel",
            "_view_count": null,
            "_view_module": "@jupyter-widgets/base",
            "_view_module_version": "1.2.0",
            "_view_name": "LayoutView",
            "align_content": null,
            "align_items": null,
            "align_self": null,
            "border": null,
            "bottom": null,
            "display": null,
            "flex": null,
            "flex_flow": null,
            "grid_area": null,
            "grid_auto_columns": null,
            "grid_auto_flow": null,
            "grid_auto_rows": null,
            "grid_column": null,
            "grid_gap": null,
            "grid_row": null,
            "grid_template_areas": null,
            "grid_template_columns": null,
            "grid_template_rows": null,
            "height": null,
            "justify_content": null,
            "justify_items": null,
            "left": null,
            "margin": null,
            "max_height": null,
            "max_width": null,
            "min_height": null,
            "min_width": null,
            "object_fit": null,
            "object_position": null,
            "order": null,
            "overflow": null,
            "overflow_x": null,
            "overflow_y": null,
            "padding": null,
            "right": null,
            "top": null,
            "visibility": null,
            "width": null
          }
        },
        "b4f6d7a784fa44dbaaf475e39092941a": {
          "model_module": "@jupyter-widgets/controls",
          "model_name": "SliderStyleModel",
          "model_module_version": "1.5.0",
          "state": {
            "_model_module": "@jupyter-widgets/controls",
            "_model_module_version": "1.5.0",
            "_model_name": "SliderStyleModel",
            "_view_count": null,
            "_view_module": "@jupyter-widgets/base",
            "_view_module_version": "1.2.0",
            "_view_name": "StyleView",
            "description_width": "",
            "handle_color": null
          }
        },
        "6afb01dd396c46798990debda1d7676e": {
          "model_module": "@jupyter-widgets/base",
          "model_name": "LayoutModel",
          "model_module_version": "1.2.0",
          "state": {
            "_model_module": "@jupyter-widgets/base",
            "_model_module_version": "1.2.0",
            "_model_name": "LayoutModel",
            "_view_count": null,
            "_view_module": "@jupyter-widgets/base",
            "_view_module_version": "1.2.0",
            "_view_name": "LayoutView",
            "align_content": null,
            "align_items": null,
            "align_self": null,
            "border": null,
            "bottom": null,
            "display": null,
            "flex": null,
            "flex_flow": null,
            "grid_area": null,
            "grid_auto_columns": null,
            "grid_auto_flow": null,
            "grid_auto_rows": null,
            "grid_column": null,
            "grid_gap": null,
            "grid_row": null,
            "grid_template_areas": null,
            "grid_template_columns": null,
            "grid_template_rows": null,
            "height": null,
            "justify_content": null,
            "justify_items": null,
            "left": null,
            "margin": null,
            "max_height": null,
            "max_width": null,
            "min_height": null,
            "min_width": null,
            "object_fit": null,
            "object_position": null,
            "order": null,
            "overflow": null,
            "overflow_x": null,
            "overflow_y": null,
            "padding": null,
            "right": null,
            "top": null,
            "visibility": null,
            "width": null
          }
        },
        "0f010471b8d3423cad07139f08c61e46": {
          "model_module": "@jupyter-widgets/controls",
          "model_name": "SliderStyleModel",
          "model_module_version": "1.5.0",
          "state": {
            "_model_module": "@jupyter-widgets/controls",
            "_model_module_version": "1.5.0",
            "_model_name": "SliderStyleModel",
            "_view_count": null,
            "_view_module": "@jupyter-widgets/base",
            "_view_module_version": "1.2.0",
            "_view_name": "StyleView",
            "description_width": "",
            "handle_color": null
          }
        },
        "2d1bdf9d649a4250b1240cad08d39af0": {
          "model_module": "@jupyter-widgets/base",
          "model_name": "LayoutModel",
          "model_module_version": "1.2.0",
          "state": {
            "_model_module": "@jupyter-widgets/base",
            "_model_module_version": "1.2.0",
            "_model_name": "LayoutModel",
            "_view_count": null,
            "_view_module": "@jupyter-widgets/base",
            "_view_module_version": "1.2.0",
            "_view_name": "LayoutView",
            "align_content": null,
            "align_items": null,
            "align_self": null,
            "border": null,
            "bottom": null,
            "display": null,
            "flex": null,
            "flex_flow": null,
            "grid_area": null,
            "grid_auto_columns": null,
            "grid_auto_flow": null,
            "grid_auto_rows": null,
            "grid_column": null,
            "grid_gap": null,
            "grid_row": null,
            "grid_template_areas": null,
            "grid_template_columns": null,
            "grid_template_rows": null,
            "height": null,
            "justify_content": null,
            "justify_items": null,
            "left": null,
            "margin": null,
            "max_height": null,
            "max_width": null,
            "min_height": null,
            "min_width": null,
            "object_fit": null,
            "object_position": null,
            "order": null,
            "overflow": null,
            "overflow_x": null,
            "overflow_y": null,
            "padding": null,
            "right": null,
            "top": null,
            "visibility": null,
            "width": null
          }
        },
        "10c6987b3f704141b38a604ed3c49438": {
          "model_module": "@jupyter-widgets/controls",
          "model_name": "VBoxModel",
          "model_module_version": "1.5.0",
          "state": {
            "_dom_classes": [
              "widget-interact"
            ],
            "_model_module": "@jupyter-widgets/controls",
            "_model_module_version": "1.5.0",
            "_model_name": "VBoxModel",
            "_view_count": null,
            "_view_module": "@jupyter-widgets/controls",
            "_view_module_version": "1.5.0",
            "_view_name": "VBoxView",
            "box_style": "",
            "children": [
              "IPY_MODEL_8bdbe9a49453402da8fdaeef8c4980e6",
              "IPY_MODEL_e70169faa06640828fa94a7405af36be",
              "IPY_MODEL_b5f06e77c37e48fc95b7f818f5c9452f",
              "IPY_MODEL_854ddfb6ad3942f795c61d02d43b610e"
            ],
            "layout": "IPY_MODEL_520a8bf4d85a488ba1b0ea885c849ea0"
          }
        },
        "8bdbe9a49453402da8fdaeef8c4980e6": {
          "model_module": "@jupyter-widgets/controls",
          "model_name": "FloatSliderModel",
          "model_module_version": "1.5.0",
          "state": {
            "_dom_classes": [],
            "_model_module": "@jupyter-widgets/controls",
            "_model_module_version": "1.5.0",
            "_model_name": "FloatSliderModel",
            "_view_count": null,
            "_view_module": "@jupyter-widgets/controls",
            "_view_module_version": "1.5.0",
            "_view_name": "FloatSliderView",
            "continuous_update": true,
            "description": "E0",
            "description_tooltip": null,
            "disabled": false,
            "layout": "IPY_MODEL_305e03838cf548ed9ee41763d976a231",
            "max": 30,
            "min": 0.001,
            "orientation": "horizontal",
            "readout": true,
            "readout_format": ".2f",
            "step": 0.1,
            "style": "IPY_MODEL_e6572dd4b25c4219ae883f8e04d3022c",
            "value": 4.28
          }
        },
        "e70169faa06640828fa94a7405af36be": {
          "model_module": "@jupyter-widgets/controls",
          "model_name": "FloatSliderModel",
          "model_module_version": "1.5.0",
          "state": {
            "_dom_classes": [],
            "_model_module": "@jupyter-widgets/controls",
            "_model_module_version": "1.5.0",
            "_model_name": "FloatSliderModel",
            "_view_count": null,
            "_view_module": "@jupyter-widgets/controls",
            "_view_module_version": "1.5.0",
            "_view_name": "FloatSliderView",
            "continuous_update": true,
            "description": "Ed",
            "description_tooltip": null,
            "disabled": false,
            "layout": "IPY_MODEL_673697fa823c4dcf905b99643205c55b",
            "max": 40,
            "min": 0.1,
            "orientation": "horizontal",
            "readout": true,
            "readout_format": ".2f",
            "step": 0.25,
            "style": "IPY_MODEL_0c8ac7b67b0e4ed9bfc946810eb91aa0",
            "value": 3.6
          }
        },
        "b5f06e77c37e48fc95b7f818f5c9452f": {
          "model_module": "@jupyter-widgets/controls",
          "model_name": "FloatSliderModel",
          "model_module_version": "1.5.0",
          "state": {
            "_dom_classes": [],
            "_model_module": "@jupyter-widgets/controls",
            "_model_module_version": "1.5.0",
            "_model_name": "FloatSliderModel",
            "_view_count": null,
            "_view_module": "@jupyter-widgets/controls",
            "_view_module_version": "1.5.0",
            "_view_name": "FloatSliderView",
            "continuous_update": true,
            "description": "d1",
            "description_tooltip": null,
            "disabled": false,
            "layout": "IPY_MODEL_079d157bb95443cf8f79c4b89bd41aec",
            "max": 5000,
            "min": 100,
            "orientation": "horizontal",
            "readout": true,
            "readout_format": ".2f",
            "step": 1,
            "style": "IPY_MODEL_62fc996d505c4784a7d2187879089a37",
            "value": 2175
          }
        },
        "854ddfb6ad3942f795c61d02d43b610e": {
          "model_module": "@jupyter-widgets/output",
          "model_name": "OutputModel",
          "model_module_version": "1.0.0",
          "state": {
            "_dom_classes": [],
            "_model_module": "@jupyter-widgets/output",
            "_model_module_version": "1.0.0",
            "_model_name": "OutputModel",
            "_view_count": null,
            "_view_module": "@jupyter-widgets/output",
            "_view_module_version": "1.0.0",
            "_view_name": "OutputView",
            "layout": "IPY_MODEL_a8b663d5a101408fbdcfaf8672784e5b",
            "msg_id": "",
            "outputs": [
              {
                "output_type": "display_data",
                "data": {
                  "text/plain": "<Figure size 864x576 with 1 Axes>",
                  "image/png": "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\n"
                },
                "metadata": {
                  "needs_background": "light"
                }
              }
            ]
          }
        },
        "520a8bf4d85a488ba1b0ea885c849ea0": {
          "model_module": "@jupyter-widgets/base",
          "model_name": "LayoutModel",
          "model_module_version": "1.2.0",
          "state": {
            "_model_module": "@jupyter-widgets/base",
            "_model_module_version": "1.2.0",
            "_model_name": "LayoutModel",
            "_view_count": null,
            "_view_module": "@jupyter-widgets/base",
            "_view_module_version": "1.2.0",
            "_view_name": "LayoutView",
            "align_content": null,
            "align_items": null,
            "align_self": null,
            "border": null,
            "bottom": null,
            "display": null,
            "flex": null,
            "flex_flow": null,
            "grid_area": null,
            "grid_auto_columns": null,
            "grid_auto_flow": null,
            "grid_auto_rows": null,
            "grid_column": null,
            "grid_gap": null,
            "grid_row": null,
            "grid_template_areas": null,
            "grid_template_columns": null,
            "grid_template_rows": null,
            "height": null,
            "justify_content": null,
            "justify_items": null,
            "left": null,
            "margin": null,
            "max_height": null,
            "max_width": null,
            "min_height": null,
            "min_width": null,
            "object_fit": null,
            "object_position": null,
            "order": null,
            "overflow": null,
            "overflow_x": null,
            "overflow_y": null,
            "padding": null,
            "right": null,
            "top": null,
            "visibility": null,
            "width": null
          }
        },
        "305e03838cf548ed9ee41763d976a231": {
          "model_module": "@jupyter-widgets/base",
          "model_name": "LayoutModel",
          "model_module_version": "1.2.0",
          "state": {
            "_model_module": "@jupyter-widgets/base",
            "_model_module_version": "1.2.0",
            "_model_name": "LayoutModel",
            "_view_count": null,
            "_view_module": "@jupyter-widgets/base",
            "_view_module_version": "1.2.0",
            "_view_name": "LayoutView",
            "align_content": null,
            "align_items": null,
            "align_self": null,
            "border": null,
            "bottom": null,
            "display": null,
            "flex": null,
            "flex_flow": null,
            "grid_area": null,
            "grid_auto_columns": null,
            "grid_auto_flow": null,
            "grid_auto_rows": null,
            "grid_column": null,
            "grid_gap": null,
            "grid_row": null,
            "grid_template_areas": null,
            "grid_template_columns": null,
            "grid_template_rows": null,
            "height": null,
            "justify_content": null,
            "justify_items": null,
            "left": null,
            "margin": null,
            "max_height": null,
            "max_width": null,
            "min_height": null,
            "min_width": null,
            "object_fit": null,
            "object_position": null,
            "order": null,
            "overflow": null,
            "overflow_x": null,
            "overflow_y": null,
            "padding": null,
            "right": null,
            "top": null,
            "visibility": null,
            "width": null
          }
        },
        "e6572dd4b25c4219ae883f8e04d3022c": {
          "model_module": "@jupyter-widgets/controls",
          "model_name": "SliderStyleModel",
          "model_module_version": "1.5.0",
          "state": {
            "_model_module": "@jupyter-widgets/controls",
            "_model_module_version": "1.5.0",
            "_model_name": "SliderStyleModel",
            "_view_count": null,
            "_view_module": "@jupyter-widgets/base",
            "_view_module_version": "1.2.0",
            "_view_name": "StyleView",
            "description_width": "",
            "handle_color": null
          }
        },
        "673697fa823c4dcf905b99643205c55b": {
          "model_module": "@jupyter-widgets/base",
          "model_name": "LayoutModel",
          "model_module_version": "1.2.0",
          "state": {
            "_model_module": "@jupyter-widgets/base",
            "_model_module_version": "1.2.0",
            "_model_name": "LayoutModel",
            "_view_count": null,
            "_view_module": "@jupyter-widgets/base",
            "_view_module_version": "1.2.0",
            "_view_name": "LayoutView",
            "align_content": null,
            "align_items": null,
            "align_self": null,
            "border": null,
            "bottom": null,
            "display": null,
            "flex": null,
            "flex_flow": null,
            "grid_area": null,
            "grid_auto_columns": null,
            "grid_auto_flow": null,
            "grid_auto_rows": null,
            "grid_column": null,
            "grid_gap": null,
            "grid_row": null,
            "grid_template_areas": null,
            "grid_template_columns": null,
            "grid_template_rows": null,
            "height": null,
            "justify_content": null,
            "justify_items": null,
            "left": null,
            "margin": null,
            "max_height": null,
            "max_width": null,
            "min_height": null,
            "min_width": null,
            "object_fit": null,
            "object_position": null,
            "order": null,
            "overflow": null,
            "overflow_x": null,
            "overflow_y": null,
            "padding": null,
            "right": null,
            "top": null,
            "visibility": null,
            "width": null
          }
        },
        "0c8ac7b67b0e4ed9bfc946810eb91aa0": {
          "model_module": "@jupyter-widgets/controls",
          "model_name": "SliderStyleModel",
          "model_module_version": "1.5.0",
          "state": {
            "_model_module": "@jupyter-widgets/controls",
            "_model_module_version": "1.5.0",
            "_model_name": "SliderStyleModel",
            "_view_count": null,
            "_view_module": "@jupyter-widgets/base",
            "_view_module_version": "1.2.0",
            "_view_name": "StyleView",
            "description_width": "",
            "handle_color": null
          }
        },
        "079d157bb95443cf8f79c4b89bd41aec": {
          "model_module": "@jupyter-widgets/base",
          "model_name": "LayoutModel",
          "model_module_version": "1.2.0",
          "state": {
            "_model_module": "@jupyter-widgets/base",
            "_model_module_version": "1.2.0",
            "_model_name": "LayoutModel",
            "_view_count": null,
            "_view_module": "@jupyter-widgets/base",
            "_view_module_version": "1.2.0",
            "_view_name": "LayoutView",
            "align_content": null,
            "align_items": null,
            "align_self": null,
            "border": null,
            "bottom": null,
            "display": null,
            "flex": null,
            "flex_flow": null,
            "grid_area": null,
            "grid_auto_columns": null,
            "grid_auto_flow": null,
            "grid_auto_rows": null,
            "grid_column": null,
            "grid_gap": null,
            "grid_row": null,
            "grid_template_areas": null,
            "grid_template_columns": null,
            "grid_template_rows": null,
            "height": null,
            "justify_content": null,
            "justify_items": null,
            "left": null,
            "margin": null,
            "max_height": null,
            "max_width": null,
            "min_height": null,
            "min_width": null,
            "object_fit": null,
            "object_position": null,
            "order": null,
            "overflow": null,
            "overflow_x": null,
            "overflow_y": null,
            "padding": null,
            "right": null,
            "top": null,
            "visibility": null,
            "width": null
          }
        },
        "62fc996d505c4784a7d2187879089a37": {
          "model_module": "@jupyter-widgets/controls",
          "model_name": "SliderStyleModel",
          "model_module_version": "1.5.0",
          "state": {
            "_model_module": "@jupyter-widgets/controls",
            "_model_module_version": "1.5.0",
            "_model_name": "SliderStyleModel",
            "_view_count": null,
            "_view_module": "@jupyter-widgets/base",
            "_view_module_version": "1.2.0",
            "_view_name": "StyleView",
            "description_width": "",
            "handle_color": null
          }
        },
        "a8b663d5a101408fbdcfaf8672784e5b": {
          "model_module": "@jupyter-widgets/base",
          "model_name": "LayoutModel",
          "model_module_version": "1.2.0",
          "state": {
            "_model_module": "@jupyter-widgets/base",
            "_model_module_version": "1.2.0",
            "_model_name": "LayoutModel",
            "_view_count": null,
            "_view_module": "@jupyter-widgets/base",
            "_view_module_version": "1.2.0",
            "_view_name": "LayoutView",
            "align_content": null,
            "align_items": null,
            "align_self": null,
            "border": null,
            "bottom": null,
            "display": null,
            "flex": null,
            "flex_flow": null,
            "grid_area": null,
            "grid_auto_columns": null,
            "grid_auto_flow": null,
            "grid_auto_rows": null,
            "grid_column": null,
            "grid_gap": null,
            "grid_row": null,
            "grid_template_areas": null,
            "grid_template_columns": null,
            "grid_template_rows": null,
            "height": null,
            "justify_content": null,
            "justify_items": null,
            "left": null,
            "margin": null,
            "max_height": null,
            "max_width": null,
            "min_height": null,
            "min_width": null,
            "object_fit": null,
            "object_position": null,
            "order": null,
            "overflow": null,
            "overflow_x": null,
            "overflow_y": null,
            "padding": null,
            "right": null,
            "top": null,
            "visibility": null,
            "width": null
          }
        },
        "b71575caeb5c4895aa697d61df2b43f7": {
          "model_module": "@jupyter-widgets/controls",
          "model_name": "VBoxModel",
          "model_module_version": "1.5.0",
          "state": {
            "_dom_classes": [
              "widget-interact"
            ],
            "_model_module": "@jupyter-widgets/controls",
            "_model_module_version": "1.5.0",
            "_model_name": "VBoxModel",
            "_view_count": null,
            "_view_module": "@jupyter-widgets/controls",
            "_view_module_version": "1.5.0",
            "_view_name": "VBoxView",
            "box_style": "",
            "children": [
              "IPY_MODEL_371d696bb47040ea8bcf1514ed842fb0",
              "IPY_MODEL_a9f1f362cbf8446b87b29b35ff3655cc",
              "IPY_MODEL_2dce1417a0544590acc10ee06ab3231d"
            ],
            "layout": "IPY_MODEL_eb5053329c1f49d7ae5b84fb9d1b3079"
          }
        },
        "371d696bb47040ea8bcf1514ed842fb0": {
          "model_module": "@jupyter-widgets/controls",
          "model_name": "IntSliderModel",
          "model_module_version": "1.5.0",
          "state": {
            "_dom_classes": [],
            "_model_module": "@jupyter-widgets/controls",
            "_model_module_version": "1.5.0",
            "_model_name": "IntSliderModel",
            "_view_count": null,
            "_view_module": "@jupyter-widgets/controls",
            "_view_module_version": "1.5.0",
            "_view_name": "IntSliderView",
            "continuous_update": true,
            "description": "p2",
            "description_tooltip": null,
            "disabled": false,
            "layout": "IPY_MODEL_e54246ff66cc4403807199619f2f0121",
            "max": 30,
            "min": 1,
            "orientation": "horizontal",
            "readout": true,
            "readout_format": "d",
            "step": 1,
            "style": "IPY_MODEL_62d953d110dc4c459b69bf09cb7d841b",
            "value": 5
          }
        },
        "a9f1f362cbf8446b87b29b35ff3655cc": {
          "model_module": "@jupyter-widgets/controls",
          "model_name": "IntSliderModel",
          "model_module_version": "1.5.0",
          "state": {
            "_dom_classes": [],
            "_model_module": "@jupyter-widgets/controls",
            "_model_module_version": "1.5.0",
            "_model_name": "IntSliderModel",
            "_view_count": null,
            "_view_module": "@jupyter-widgets/controls",
            "_view_module_version": "1.5.0",
            "_view_name": "IntSliderView",
            "continuous_update": true,
            "description": "p1",
            "description_tooltip": null,
            "disabled": false,
            "layout": "IPY_MODEL_07c30a5da36c48eab56e43e4a37176dc",
            "max": 30,
            "min": 0,
            "orientation": "horizontal",
            "readout": true,
            "readout_format": "d",
            "step": 1,
            "style": "IPY_MODEL_17f22d2ed59b441e89b4f3e55545032f",
            "value": 12
          }
        },
        "2dce1417a0544590acc10ee06ab3231d": {
          "model_module": "@jupyter-widgets/output",
          "model_name": "OutputModel",
          "model_module_version": "1.0.0",
          "state": {
            "_dom_classes": [],
            "_model_module": "@jupyter-widgets/output",
            "_model_module_version": "1.0.0",
            "_model_name": "OutputModel",
            "_view_count": null,
            "_view_module": "@jupyter-widgets/output",
            "_view_module_version": "1.0.0",
            "_view_name": "OutputView",
            "layout": "IPY_MODEL_e9098046a5734036847afa2df0034533",
            "msg_id": "",
            "outputs": [
              {
                "output_type": "display_data",
                "data": {
                  "text/plain": "<Figure size 864x576 with 1 Axes>",
                  "image/png": "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\n"
                },
                "metadata": {
                  "needs_background": "light"
                }
              }
            ]
          }
        },
        "eb5053329c1f49d7ae5b84fb9d1b3079": {
          "model_module": "@jupyter-widgets/base",
          "model_name": "LayoutModel",
          "model_module_version": "1.2.0",
          "state": {
            "_model_module": "@jupyter-widgets/base",
            "_model_module_version": "1.2.0",
            "_model_name": "LayoutModel",
            "_view_count": null,
            "_view_module": "@jupyter-widgets/base",
            "_view_module_version": "1.2.0",
            "_view_name": "LayoutView",
            "align_content": null,
            "align_items": null,
            "align_self": null,
            "border": null,
            "bottom": null,
            "display": null,
            "flex": null,
            "flex_flow": null,
            "grid_area": null,
            "grid_auto_columns": null,
            "grid_auto_flow": null,
            "grid_auto_rows": null,
            "grid_column": null,
            "grid_gap": null,
            "grid_row": null,
            "grid_template_areas": null,
            "grid_template_columns": null,
            "grid_template_rows": null,
            "height": null,
            "justify_content": null,
            "justify_items": null,
            "left": null,
            "margin": null,
            "max_height": null,
            "max_width": null,
            "min_height": null,
            "min_width": null,
            "object_fit": null,
            "object_position": null,
            "order": null,
            "overflow": null,
            "overflow_x": null,
            "overflow_y": null,
            "padding": null,
            "right": null,
            "top": null,
            "visibility": null,
            "width": null
          }
        },
        "e54246ff66cc4403807199619f2f0121": {
          "model_module": "@jupyter-widgets/base",
          "model_name": "LayoutModel",
          "model_module_version": "1.2.0",
          "state": {
            "_model_module": "@jupyter-widgets/base",
            "_model_module_version": "1.2.0",
            "_model_name": "LayoutModel",
            "_view_count": null,
            "_view_module": "@jupyter-widgets/base",
            "_view_module_version": "1.2.0",
            "_view_name": "LayoutView",
            "align_content": null,
            "align_items": null,
            "align_self": null,
            "border": null,
            "bottom": null,
            "display": null,
            "flex": null,
            "flex_flow": null,
            "grid_area": null,
            "grid_auto_columns": null,
            "grid_auto_flow": null,
            "grid_auto_rows": null,
            "grid_column": null,
            "grid_gap": null,
            "grid_row": null,
            "grid_template_areas": null,
            "grid_template_columns": null,
            "grid_template_rows": null,
            "height": null,
            "justify_content": null,
            "justify_items": null,
            "left": null,
            "margin": null,
            "max_height": null,
            "max_width": null,
            "min_height": null,
            "min_width": null,
            "object_fit": null,
            "object_position": null,
            "order": null,
            "overflow": null,
            "overflow_x": null,
            "overflow_y": null,
            "padding": null,
            "right": null,
            "top": null,
            "visibility": null,
            "width": null
          }
        },
        "62d953d110dc4c459b69bf09cb7d841b": {
          "model_module": "@jupyter-widgets/controls",
          "model_name": "SliderStyleModel",
          "model_module_version": "1.5.0",
          "state": {
            "_model_module": "@jupyter-widgets/controls",
            "_model_module_version": "1.5.0",
            "_model_name": "SliderStyleModel",
            "_view_count": null,
            "_view_module": "@jupyter-widgets/base",
            "_view_module_version": "1.2.0",
            "_view_name": "StyleView",
            "description_width": "",
            "handle_color": null
          }
        },
        "07c30a5da36c48eab56e43e4a37176dc": {
          "model_module": "@jupyter-widgets/base",
          "model_name": "LayoutModel",
          "model_module_version": "1.2.0",
          "state": {
            "_model_module": "@jupyter-widgets/base",
            "_model_module_version": "1.2.0",
            "_model_name": "LayoutModel",
            "_view_count": null,
            "_view_module": "@jupyter-widgets/base",
            "_view_module_version": "1.2.0",
            "_view_name": "LayoutView",
            "align_content": null,
            "align_items": null,
            "align_self": null,
            "border": null,
            "bottom": null,
            "display": null,
            "flex": null,
            "flex_flow": null,
            "grid_area": null,
            "grid_auto_columns": null,
            "grid_auto_flow": null,
            "grid_auto_rows": null,
            "grid_column": null,
            "grid_gap": null,
            "grid_row": null,
            "grid_template_areas": null,
            "grid_template_columns": null,
            "grid_template_rows": null,
            "height": null,
            "justify_content": null,
            "justify_items": null,
            "left": null,
            "margin": null,
            "max_height": null,
            "max_width": null,
            "min_height": null,
            "min_width": null,
            "object_fit": null,
            "object_position": null,
            "order": null,
            "overflow": null,
            "overflow_x": null,
            "overflow_y": null,
            "padding": null,
            "right": null,
            "top": null,
            "visibility": null,
            "width": null
          }
        },
        "17f22d2ed59b441e89b4f3e55545032f": {
          "model_module": "@jupyter-widgets/controls",
          "model_name": "SliderStyleModel",
          "model_module_version": "1.5.0",
          "state": {
            "_model_module": "@jupyter-widgets/controls",
            "_model_module_version": "1.5.0",
            "_model_name": "SliderStyleModel",
            "_view_count": null,
            "_view_module": "@jupyter-widgets/base",
            "_view_module_version": "1.2.0",
            "_view_name": "StyleView",
            "description_width": "",
            "handle_color": null
          }
        },
        "e9098046a5734036847afa2df0034533": {
          "model_module": "@jupyter-widgets/base",
          "model_name": "LayoutModel",
          "model_module_version": "1.2.0",
          "state": {
            "_model_module": "@jupyter-widgets/base",
            "_model_module_version": "1.2.0",
            "_model_name": "LayoutModel",
            "_view_count": null,
            "_view_module": "@jupyter-widgets/base",
            "_view_module_version": "1.2.0",
            "_view_name": "LayoutView",
            "align_content": null,
            "align_items": null,
            "align_self": null,
            "border": null,
            "bottom": null,
            "display": null,
            "flex": null,
            "flex_flow": null,
            "grid_area": null,
            "grid_auto_columns": null,
            "grid_auto_flow": null,
            "grid_auto_rows": null,
            "grid_column": null,
            "grid_gap": null,
            "grid_row": null,
            "grid_template_areas": null,
            "grid_template_columns": null,
            "grid_template_rows": null,
            "height": null,
            "justify_content": null,
            "justify_items": null,
            "left": null,
            "margin": null,
            "max_height": null,
            "max_width": null,
            "min_height": null,
            "min_width": null,
            "object_fit": null,
            "object_position": null,
            "order": null,
            "overflow": null,
            "overflow_x": null,
            "overflow_y": null,
            "padding": null,
            "right": null,
            "top": null,
            "visibility": null,
            "width": null
          }
        }
      }
    }
  },
  "cells": [
    {
      "cell_type": "markdown",
      "metadata": {
        "id": "view-in-github",
        "colab_type": "text"
      },
      "source": [
        "<a href=\"https://colab.research.google.com/github/drojassa/Undergrad_Thesis/blob/main/Transmitancia.ipynb\" target=\"_parent\"><img src=\"https://colab.research.google.com/assets/colab-badge.svg\" alt=\"Open In Colab\"/></a>"
      ]
    },
    {
      "cell_type": "markdown",
      "source": [
        "# **Transmitancia de películas delgadas**\n"
      ],
      "metadata": {
        "id": "E6gXb4R8PXyD"
      }
    },
    {
      "cell_type": "markdown",
      "source": [
        "### Cálculo de los parámetros ópticos"
      ],
      "metadata": {
        "id": "8xUpNrV9XHoX"
      }
    },
    {
      "cell_type": "markdown",
      "source": [
        "Antes de todo se deben importar las librerias que se van a utilizar en el código"
      ],
      "metadata": {
        "id": "3ugu8lIIGo0c"
      }
    },
    {
      "cell_type": "code",
      "execution_count": null,
      "metadata": {
        "id": "zSN0UITrgZ0V"
      },
      "outputs": [],
      "source": [
        "import matplotlib.pyplot as plt\n",
        "import numpy as np\n",
        "import pandas as pd\n",
        "import os; from os import path\n",
        "from scipy.interpolate import interp1d\n",
        "from ipywidgets import interact, interactive, fixed, interact_manual\n",
        "import ipywidgets as widgets\n",
        "from scipy.optimize import curve_fit,fsolve, brentq\n",
        "from sympy import symbols, Eq, solve\n",
        "%matplotlib inline\n",
        "PI=np.pi\n",
        "fdat= open(\"GAPyParametros.txt\",\"w+\")\n",
        "fdat.write(\"#Muestra  E0  Ed  d1  p1  p2  GAP\")\n",
        "fdat.close()"
      ]
    },
    {
      "cell_type": "markdown",
      "source": [
        "El procedimiento para obtener la simulación de los espectros es el siguiente"
      ],
      "metadata": {
        "id": "mSnuUIk4QGka"
      }
    },
    {
      "cell_type": "markdown",
      "source": [
        "Se declaran los valores para el medio incidente (n0, k0), el sustrato (n2, k2). En este caso el sustrato era de vidrio y el medio incidente es aire por lo que n0=1, k0=0, n2=1.52 y k2=0"
      ],
      "metadata": {
        "id": "XHqYebgSQj8s"
      }
    },
    {
      "cell_type": "code",
      "source": [
        "n0 = 1; k0 = 0; k2 = 0; n2 = 1.52;"
      ],
      "metadata": {
        "id": "Pa_Apph5RPVL"
      },
      "execution_count": null,
      "outputs": []
    },
    {
      "cell_type": "markdown",
      "source": [
        "### Ingreso de datos"
      ],
      "metadata": {
        "id": "ujG6xOMSXqpb"
      }
    },
    {
      "cell_type": "markdown",
      "source": [
        "Ahora importamos los datos de todas las muestras como una tabla csv (ya recortada anteriormente) y se grafican"
      ],
      "metadata": {
        "id": "ltHNF4hSYTGc"
      }
    },
    {
      "cell_type": "markdown",
      "source": [
        "Nota: La primera fila del archivo debe ser el nombre de cada columna"
      ],
      "metadata": {
        "id": "5hlDQ1IbXVH1"
      }
    },
    {
      "cell_type": "code",
      "source": [
        "#-----(Aquí va la ruta del archivo) ⇲\n",
        "datos_experimentales=pd.read_csv(\"Transmitancia.csv\", sep=',', index_col=False)\n",
        "datos_experimentales.columns = datos_experimentales.iloc[0];datos_experimentales = datos_experimentales[1:]\n",
        "datos_experimentales=datos_experimentales.astype(float)"
      ],
      "metadata": {
        "id": "JDzuZgGPq3UY"
      },
      "execution_count": null,
      "outputs": []
    },
    {
      "cell_type": "code",
      "source": [
        "#(OPCIONAL) EJECUTE ESTE CÓDIGO PARA GRAFICAR LOS DATOS\n",
        "datos_experimentales.plot(x=datos_experimentales.columns.values[0], y=datos_experimentales.columns.values[1:], kind= \"line\", figsize=(15, 8))"
      ],
      "metadata": {
        "colab": {
          "base_uri": "https://localhost:8080/",
          "height": 390
        },
        "id": "0F5BoxQsUBAy",
        "outputId": "67570cb7-440d-49d5-912e-eac0a77d3be3"
      },
      "execution_count": null,
      "outputs": [
        {
          "output_type": "execute_result",
          "data": {
            "text/plain": [
              "<matplotlib.axes._subplots.AxesSubplot at 0x7f7fcb8b3cd0>"
            ]
          },
          "metadata": {},
          "execution_count": 4
        },
        {
          "output_type": "display_data",
          "data": {
            "text/plain": [
              "<Figure size 1080x576 with 1 Axes>"
            ],
            "image/png": "[encoded data removed]"
          },
          "metadata": {
            "needs_background": "light"
          }
        }
      ]
    },
    {
      "cell_type": "markdown",
      "source": [
        "Tambien importamos los datos de referencia que se van a usar para la interpolación de k en el modelo matemático"
      ],
      "metadata": {
        "id": "rjV-jfNzcqFp"
      }
    },
    {
      "cell_type": "code",
      "source": [
        "#-(Ruta del archivo) ⇲\n",
        "ck=pd.read_csv(\"ck1MS20.dat\", sep='\\t',names=['Long Onda', 'k'], index_col=False); ck=ck.astype(float)"
      ],
      "metadata": {
        "id": "YEDdH9UWcwNL"
      },
      "execution_count": null,
      "outputs": []
    },
    {
      "cell_type": "markdown",
      "source": [
        "En el siguiente código va el nombre de la columna que va a estudiar"
      ],
      "metadata": {
        "id": "Rk2sUs_kWSZh"
      }
    },
    {
      "cell_type": "code",
      "source": [
        "MUESTRA = 'MTb5'"
      ],
      "metadata": {
        "id": "DP3N7FPwWlyR"
      },
      "execution_count": null,
      "outputs": []
    },
    {
      "cell_type": "code",
      "source": [
        "#En caso de tener problemas con el programa puede utilizar estos datos que se ajustan bien para comparar (DATOS ANTIGUOS)\n",
        "datos_old=pd.read_csv('TexpMS20.dat',sep='\\t',names=['Long Onda', 'T datos'], index_col=False)\n",
        "datos_old=datos_old.astype(float)"
      ],
      "metadata": {
        "id": "MvRoVrnKKC1n"
      },
      "execution_count": null,
      "outputs": []
    },
    {
      "cell_type": "markdown",
      "source": [
        "Declararemos valores importantes como\n",
        "numero de datos \"ndat\"\n",
        "longitudes de onda \"ldat\"\n",
        "transmitancia \"tdat\"\n",
        "Así como una longitud de onda inicial y final (li, lf)"
      ],
      "metadata": {
        "id": "vOlYwmpGaFum"
      }
    },
    {
      "cell_type": "code",
      "source": [
        "ldat0= datos_experimentales[datos_experimentales.columns.values[0]].to_numpy()\n",
        "tdat0= datos_experimentales[MUESTRA].to_numpy()/100; datosold=False\n",
        "#tdat0= datos_old['T datos'].to_numpy()/100; datosold=True #Descomente esta línea si quiere utilizar los DATOS ANTIGUOS\n",
        "ldat=ldat0 ;tdat=tdat0 ;ndat= len(ldat); li = ldat[0] ;lf = ldat[ndat-1]"
      ],
      "metadata": {
        "id": "fBxCAqgEaAWq"
      },
      "execution_count": null,
      "outputs": []
    },
    {
      "cell_type": "markdown",
      "source": [
        "Con los datos ingresados se genera una función de interpolación para k, esta es necesario dado que de lo contrario seria necesario escribir a mano un valor para cada una de las k, se grafican tanto los datos como la función de interpolación para comprobar la concordancia. Es importante rechazar los valores de k si se presentan ondulaciones y corregirlos desde Origin, la idea de eso es que las ondulaciones de la curva de transmitancias no se asocien con la absorción sino mas bien con la interferencia."
      ],
      "metadata": {
        "id": "zQNM1kBAenum"
      }
    },
    {
      "cell_type": "code",
      "source": [
        "k1 = interp1d(ck['Long Onda'].to_numpy(), ck['k'].to_numpy())\n",
        "plt.plot(ldat, ck['k'].to_numpy(), 'o',label=\"datos\");plt.plot(ldat, k1(ldat), '-',label=\"interpolación\");\n",
        "plt.legend(loc=\"upper right\");plt.show()"
      ],
      "metadata": {
        "id": "h7OIenXqb_Ml",
        "colab": {
          "base_uri": "https://localhost:8080/",
          "height": 265
        },
        "outputId": "bbb5559c-a12f-4c31-d186-a75e48ea3f9d"
      },
      "execution_count": null,
      "outputs": [
        {
          "output_type": "display_data",
          "data": {
            "text/plain": [
              "<Figure size 432x288 with 1 Axes>"
            ],
            "image/png": "[encoded data removed]"
          },
          "metadata": {
            "needs_background": "light"
          }
        }
      ]
    },
    {
      "cell_type": "markdown",
      "source": [
        "## Modelo matemático"
      ],
      "metadata": {
        "id": "17yaOL70i-aQ"
      }
    },
    {
      "cell_type": "markdown",
      "source": [
        "Las ecuaciones usada para simular los espectros son tomadas del modelo matricial y para trabajar la el indice de refracción se emplea el oscilador de WD. El conjunto de ecuaciones es el siguiente"
      ],
      "metadata": {
        "id": "qITJQqy5jEo8"
      }
    },
    {
      "cell_type": "code",
      "source": [
        "def n1(E0, Ed, l):\n",
        "  value0 = (1+(E0*Ed)/(E0**2-(1240.8/l)**2))**(0.5)\n",
        "  return value0\n",
        "\n",
        "def g1(E0, Ed, l):\n",
        "  value0 = (n0**2-n1(E0, Ed, l)**2-k1(l)**2)/((n0+n1(E0, Ed, l))**2+k1(l)**2)\n",
        "  return value0\n",
        "\n",
        "def h1(E0, Ed, l):\n",
        "  value0 = (2*n1(E0, Ed, l)*k1(l))/((n0+n1(E0, Ed, l))**2+k1(l)**2)\n",
        "  return value0\n",
        "\n",
        "def g2(E0, Ed, l):\n",
        "  value0 = (n1(E0, Ed, l)**2-n2**2+k1(l)**2-k2**2)/((n1(E0, Ed, l)+n2)**2+(k1(l)+k2)**2)\n",
        "  return value0\n",
        "\n",
        "def h2(E0, Ed, l):\n",
        "  value0 = (2*(n1(E0, Ed, l)*k2-n2*k1(l)))/((n1(E0, Ed, l)+n2)**2+(k1(l)+k2)**2)\n",
        "  return value0\n",
        "\n",
        "def alpha0(d1, l):\n",
        "  value0= 2*PI*k1(l)*d1/l\n",
        "  return value0\n",
        "\n",
        "def gamma0(E0, Ed, d1 , l):\n",
        "  value0 = 2*PI*n1(E0, Ed, l)*d1/l\n",
        "  return value0\n",
        "\n",
        "def c(E0, Ed, l):\n",
        "  value0 = 2*(g1(E0, Ed, l)*g2(E0, Ed, l)-h1(E0, Ed, l)*h2(E0, Ed, l))\n",
        "  return value0\n",
        "\n",
        "def d(E0, Ed, l):\n",
        "  value0 = 2*(g1(E0, Ed, l)*h2(E0, Ed, l)+h1(E0, Ed, l)*g2(E0, Ed, l))\n",
        "  return value0\n",
        "\n",
        "def T1(l,E0, Ed, d1 ):\n",
        "  value0 = (n2/n0)*(((1+g1(E0, Ed, l))**2+h1(E0, Ed, l)**2)*((1+g2(E0, Ed, l))**2+h2(E0, Ed, l)**2))/(np.exp(2*alpha0(d1, l))+(g1(E0, Ed, l)**2+h1(E0, Ed, l)**2)*(g2(E0, Ed, l)**2+h2(E0, Ed, l)**2)*np.exp((-2)*alpha0(d1,l))+c(E0, Ed, l)*np.cos(2*gamma0(E0, Ed, d1 , l))+d(E0, Ed, l)*np.sin(2*gamma0(E0, Ed, d1 , l)))\n",
        "  return value0"
      ],
      "metadata": {
        "id": "Hfe9V8YCfg8d"
      },
      "execution_count": null,
      "outputs": []
    },
    {
      "cell_type": "markdown",
      "source": [
        "## Determinación de los valores de las energías y el espesor"
      ],
      "metadata": {
        "id": "Lpzp4lmNu9Rp"
      }
    },
    {
      "cell_type": "markdown",
      "source": [
        "En esta etapa se calculan los valores de Ed, E0 y d1. Para el espesor d1 es buena practica usar valores cercanos a los obtenidos por el perfilómetro, pero no es camisa de fuerza.\n",
        "Para determinar estos valores, se mueve el respectivo cursor en hasta que los datos experimentales (naranja) estén ajustados por la curva teórica en azul, para las películas con interferencia es muy importante que los máximos y mínimos coincidan entre los dos conjuntos de datos.\n"
      ],
      "metadata": {
        "id": "9hW20sXKvAU6"
      }
    },
    {
      "cell_type": "code",
      "source": [
        "def plot_T1(E0, Ed, d1):\n",
        "    x = np.linspace(li ,lf, num=500); y = T1(x, E0, Ed, d1 )\n",
        "    plt.figure(figsize=(12,8))\n",
        "    plt.plot(x, y,label='primer ajuste teórico');plt.plot(ldat,tdat, '--',label='datos experimentales');plt.legend(loc=\"upper right\")\n",
        "    plt.ylim(-0.1,1.1)\n",
        "interact(plot_T1, E0 = widgets.FloatSlider(value=13,min=1,max=50,step=0.1),Ed= widgets.FloatSlider(value=13,min=1,max=50,step=0.25), d1= widgets.FloatSlider(value=7.5,min=100,max=5000.0,step=1.0))"
      ],
      "metadata": {
        "colab": {
          "base_uri": "https://localhost:8080/",
          "height": 556,
          "referenced_widgets": [
            "3e8da812326e497daa75c90c4c5979b4",
            "e4315a89698a470a8aea45262e9ad634",
            "74964114c2ad4a5885e52cb92f9d4ab6",
            "4f49d2d8e6db494484d5e783f6402029",
            "98ba7eb9898f4f42a3afb07e9cb01c99",
            "ee79c218f71b4b31a1245909c412129f",
            "bbac315f58d44b8a94645a95a6aa4769",
            "50bc100bdae24a1b97bc402f3e7bdf44",
            "41bef5ed5263406884d9184cc5ebf57a",
            "b4f6d7a784fa44dbaaf475e39092941a",
            "6afb01dd396c46798990debda1d7676e",
            "0f010471b8d3423cad07139f08c61e46",
            "2d1bdf9d649a4250b1240cad08d39af0"
          ]
        },
        "id": "ux8UTT2Vnaf0",
        "outputId": "95c32b6e-062b-49b9-dcb1-020c52b1eb40"
      },
      "execution_count": null,
      "outputs": [
        {
          "output_type": "display_data",
          "data": {
            "text/plain": [
              "interactive(children=(FloatSlider(value=13.0, description='E0', max=50.0, min=1.0), FloatSlider(value=13.0, de…"
            ],
            "application/vnd.jupyter.widget-view+json": {
              "version_major": 2,
              "version_minor": 0,
              "model_id": "3e8da812326e497daa75c90c4c5979b4"
            }
          },
          "metadata": {}
        },
        {
          "output_type": "execute_result",
          "data": {
            "text/plain": [
              "<function __main__.plot_T1(E0, Ed, d1)>"
            ]
          },
          "metadata": {},
          "execution_count": 31
        }
      ]
    },
    {
      "cell_type": "markdown",
      "source": [
        "Con los valores  obtenidos en la gráfica usted puede hacer una búsqueda mas refinada usando métodos numéricos para ello cambie los limites de E0, Ed y d1 en el siguiente comando.\\\n",
        "Estos resultados no siempre se ajustan bien debido a la norma empleada."
      ],
      "metadata": {
        "id": "j-vtZp1iBesI"
      }
    },
    {
      "cell_type": "code",
      "source": [
        "E0inf = 1. ; E0sup=30. ;\n",
        "Edinf = 1. ; Edsup=30. ;\n",
        "d1inf = 200. ; d1sup=5000. ;\n",
        "popt1, pcov = curve_fit(T1, ldat, tdat,bounds=([E0inf,Edinf,d1inf],[E0sup,Edsup,d1sup]))\n",
        "print(\" E0 =\",popt1[0],\"\\n\",\"Ed =\",popt1[1],\"\\n\",\"d1 =\",popt1[2])"
      ],
      "metadata": {
        "colab": {
          "base_uri": "https://localhost:8080/"
        },
        "id": "lV2fb796-roN",
        "outputId": "cebd4224-3928-4020-cbfb-5b60daabdc4b"
      },
      "execution_count": null,
      "outputs": [
        {
          "output_type": "stream",
          "name": "stdout",
          "text": [
            " E0 = 4.278621450471436 \n",
            " Ed = 3.6123049257733744 \n",
            " d1 = 2175.71751725464\n"
          ]
        },
        {
          "output_type": "stream",
          "name": "stderr",
          "text": [
            "/usr/local/lib/python3.7/dist-packages/ipykernel_launcher.py:2: RuntimeWarning: invalid value encountered in sqrt\n",
            "  \n"
          ]
        }
      ]
    },
    {
      "cell_type": "markdown",
      "source": [
        "## Optimizar los valores de k"
      ],
      "metadata": {
        "id": "hcJV83kCzmY3"
      }
    },
    {
      "cell_type": "markdown",
      "source": [
        "Una vez que se tienen valores adecuados de los parámetros anteriores, se calculan los valores que debe tener k para que el error entre los datos experimentales y teóricos sea menor que una tolerancia determinada por el usuario.\n",
        "El conjunto de ecuaciones es planteado nuevamente para agregar el carácter de variable de k."
      ],
      "metadata": {
        "id": "7SHnpU0Xzriv"
      }
    },
    {
      "cell_type": "code",
      "source": [
        "def g1k(E0, Ed,l, knew):\n",
        "  value0 = (n0**2-n1(E0, Ed, l)**2-knew**2)/((n0+n1(E0, Ed, l))**2+knew**2)\n",
        "  return value0\n",
        "\n",
        "def h1k(E0, Ed, l,  knew):\n",
        "  value0 = (2*n1(E0, Ed, l)*knew)/((n0+n1(E0, Ed, l))**2+knew**2)\n",
        "  return value0\n",
        "\n",
        "def g2k(E0, Ed, l,knew):\n",
        "  value0 = (n1(E0, Ed, l)**2-n2**2+knew**2-k2**2)/((n1(E0, Ed, l)+n2)**2+(knew+k2)**2)\n",
        "  return value0\n",
        "\n",
        "def h2k(E0, Ed, l, knew):\n",
        "  value0 = (2*(n1(E0, Ed, l)*k2-n2*knew))/((n1(E0, Ed, l)+n2)**2+(knew+k2)**2)\n",
        "  return value0\n",
        "\n",
        "def alpha0k(d1, l,knew):\n",
        "  value0= 2*PI*knew*d1/l\n",
        "  return value0\n",
        "\n",
        "def gamma0k(E0, Ed, d1 , l):\n",
        "  value0 = 2*PI*n1(E0, Ed, l)*d1/l\n",
        "  return value0\n",
        "\n",
        "def ckk(E0, Ed, l,knew):\n",
        "  value0 = 2*(g1k(E0, Ed, l,knew)*g2k(E0, Ed, l,knew)-h1k(E0, Ed, l,knew)*h2k(E0, Ed, l,knew))\n",
        "  return value0\n",
        "\n",
        "def dk(E0, Ed, l,knew):\n",
        "  value0 = 2*(g1k(E0, Ed, l,knew)*h2k(E0, Ed, l,knew)+h1k(E0, Ed, l, knew)*g2k(E0, Ed, l,knew))\n",
        "  return value0\n",
        "\n",
        "def T1k(l,E0, Ed, d1,knew ):\n",
        "  value0 = (n2/n0)*(((1+g1k(E0, Ed, l,knew))**2+h1k(E0, Ed, l,knew)**2)*((1+g2k(E0, Ed, l,knew))**2+h2k(E0, Ed, l,knew)**2))/(np.exp(2*alpha0k(d1, l,knew))+(g1k(E0, Ed, l,knew)**2+h1k(E0, Ed, l,knew)**2)*(g2k(E0, Ed, l,knew)**2+h2k(E0, Ed, l,knew)**2)*np.exp((-2)*alpha0k(d1,l,knew))+ckk(E0, Ed, l,knew)*np.cos(2*gamma0k(E0, Ed, d1 , l))+d(E0, Ed, l)*np.sin(2*gamma0k(E0, Ed, d1 , l)))\n",
        "  return value0"
      ],
      "metadata": {
        "id": "P544gihnzf08"
      },
      "execution_count": null,
      "outputs": []
    },
    {
      "cell_type": "markdown",
      "source": [
        "El usuario define la tolerancia con la que se trabajará."
      ],
      "metadata": {
        "id": "hCA7jJEU4z1H"
      }
    },
    {
      "cell_type": "code",
      "source": [
        "Tol = 0.001;"
      ],
      "metadata": {
        "id": "YJKksHBszFCY"
      },
      "execution_count": null,
      "outputs": []
    },
    {
      "cell_type": "markdown",
      "source": [
        "Se toman los valores de E0, Ed y d1 hallados anteriormente para calcular los valores mas apropiados para k, para ello escriba los valores seleccionados."
      ],
      "metadata": {
        "id": "6GaEkZQbyzIF"
      }
    },
    {
      "cell_type": "code",
      "source": [
        "ValorE0 = 4.28\n",
        "ValorEd = 3.6\n",
        "Valord1 = 2175"
      ],
      "metadata": {
        "id": "WMXa_0LvCPjx"
      },
      "execution_count": null,
      "outputs": []
    },
    {
      "cell_type": "markdown",
      "source": [
        "En esta parte se realiza el ajuste y se gráfica los puntos hallados para la función k y una función de interpolación, una buena señal es que la gráfica no presente ondulaciones significativas.\n",
        "En este paso se genera una función de interpolación para los valores finales de la función k (k1)."
      ],
      "metadata": {
        "id": "7z0dUyrINxJT"
      }
    },
    {
      "cell_type": "code",
      "source": [
        "def Tknew(k,i):\n",
        " return T1k(ldat[i],ValorE0, ValorEd, Valord1,k ) - tdat[i] - Tol\n",
        "kvector1= []\n",
        "for i in range(len(ldat)):\n",
        "   kvector1.append(fsolve(Tknew,0.02, args=(i))[0])\n",
        "kvector1=np.array(kvector1)\n",
        "k1 = interp1d(ldat, kvector1)\n",
        "plt.figure(figsize=(9,6));plt.plot(ldat, kvector1,'o',label='datos');plt.plot(ldat, k1(ldat),'-',label='interpolacón');\n",
        "plt.legend(loc=\"upper right\");plt.show()"
      ],
      "metadata": {
        "id": "ZMThS9ED8fau",
        "colab": {
          "base_uri": "https://localhost:8080/",
          "height": 376
        },
        "outputId": "b8290838-ce37-4961-d640-35e46868535a"
      },
      "execution_count": null,
      "outputs": [
        {
          "output_type": "display_data",
          "data": {
            "text/plain": [
              "<Figure size 648x432 with 1 Axes>"
            ],
            "image/png": "[encoded data removed]"
          },
          "metadata": {
            "needs_background": "light"
          }
        }
      ]
    },
    {
      "cell_type": "markdown",
      "source": [
        "RECORTE DE DATOS"
      ],
      "metadata": {
        "id": "b8BjsaNg7NSA"
      }
    },
    {
      "cell_type": "code",
      "source": [
        "#EJECUTE ESTE COMANDO SOLAMENTE SI LA GRÁFICA EVIDENCIA PROBLEMAS CON LOS PRIMEROS N DATOS\n",
        "#(cambie N manualmente y ejecute nuevamente el comando de arriba)\n",
        "N=0;\n",
        "ldat = ldat0;tdat= tdat0;ldat=ldat[N:];tdat=tdat[N:];ndat= len(ldat)\n",
        "li = ldat[0] ;lf = ldat[ndat-1]"
      ],
      "metadata": {
        "id": "BUyg3T1CJndP"
      },
      "execution_count": null,
      "outputs": []
    },
    {
      "cell_type": "markdown",
      "source": [
        "### Visualizar los resultados de k"
      ],
      "metadata": {
        "id": "ZQWQq0CTYMfL"
      }
    },
    {
      "cell_type": "markdown",
      "source": [
        "A continuación se emplean los valores de k determinados para verificar la concordancia, si el ajuste fue bueno, las curvas coinciden casi que perfectamente."
      ],
      "metadata": {
        "id": "klYq3aTHYO-h"
      }
    },
    {
      "cell_type": "code",
      "source": [
        "def plot_T1(E0, Ed, d1):\n",
        "    x = np.linspace(li ,lf, num=500);y = T1(x, E0, Ed, d1 )\n",
        "    plt.figure(figsize=(12,8))\n",
        "    plt.plot(x, y,label='segundo ajuste teórico');plt.plot(ldat,tdat, '--',label='datos experimentales');plt.legend(loc=\"upper right\")\n",
        "    plt.ylim(-0.1,1.1)\n",
        "interact(plot_T1, E0 = widgets.FloatSlider(value=7.5,min=0.001,max=30.0,step=0.1),Ed= widgets.FloatSlider(value=7.5,min=0.1,max=40.0,step=0.25), d1= widgets.FloatSlider(value=7.5,min=100,max=5000.0,step=1.0))"
      ],
      "metadata": {
        "colab": {
          "base_uri": "https://localhost:8080/",
          "height": 556,
          "referenced_widgets": [
            "10c6987b3f704141b38a604ed3c49438",
            "8bdbe9a49453402da8fdaeef8c4980e6",
            "e70169faa06640828fa94a7405af36be",
            "b5f06e77c37e48fc95b7f818f5c9452f",
            "854ddfb6ad3942f795c61d02d43b610e",
            "520a8bf4d85a488ba1b0ea885c849ea0",
            "305e03838cf548ed9ee41763d976a231",
            "e6572dd4b25c4219ae883f8e04d3022c",
            "673697fa823c4dcf905b99643205c55b",
            "0c8ac7b67b0e4ed9bfc946810eb91aa0",
            "079d157bb95443cf8f79c4b89bd41aec",
            "62fc996d505c4784a7d2187879089a37",
            "a8b663d5a101408fbdcfaf8672784e5b"
          ]
        },
        "id": "LsEq9NcKYRmc",
        "outputId": "bf266b47-07bd-445c-a2ec-6eb90fde1ed2"
      },
      "execution_count": null,
      "outputs": [
        {
          "output_type": "display_data",
          "data": {
            "text/plain": [
              "interactive(children=(FloatSlider(value=7.5, description='E0', max=30.0, min=0.001), FloatSlider(value=7.5, de…"
            ],
            "application/vnd.jupyter.widget-view+json": {
              "version_major": 2,
              "version_minor": 0,
              "model_id": "10c6987b3f704141b38a604ed3c49438"
            }
          },
          "metadata": {}
        },
        {
          "output_type": "execute_result",
          "data": {
            "text/plain": [
              "<function __main__.plot_T1(E0, Ed, d1)>"
            ]
          },
          "metadata": {},
          "execution_count": 37
        }
      ]
    },
    {
      "cell_type": "markdown",
      "source": [
        "Es necesario confirmar los valores finales de los parámetros E0, Ed y d1 para ser usados un los subsiguientes cálculos"
      ],
      "metadata": {
        "id": "8IhSJvzNb35_"
      }
    },
    {
      "cell_type": "code",
      "source": [
        "E0 = 4.28\n",
        "Ed = 3.6\n",
        "d1 = 2175"
      ],
      "metadata": {
        "id": "kyYEyiYfb7Io"
      },
      "execution_count": null,
      "outputs": []
    },
    {
      "cell_type": "markdown",
      "source": [
        "# Resultados"
      ],
      "metadata": {
        "id": "ptIG6vvIu1xF"
      }
    },
    {
      "cell_type": "markdown",
      "source": [
        "### Indice de refracción y absorción"
      ],
      "metadata": {
        "id": "99Aopvthu4Xc"
      }
    },
    {
      "cell_type": "markdown",
      "source": [
        "Se definen los datos de indice de refracción y absorción. El primero se obtiene al reemplazar E0 y Ed en la ecuación de WD, para la absorción se usan los valores de k previamente hallados.\n",
        "Los datos de absorción se condensan en una función de interpolación."
      ],
      "metadata": {
        "id": "mxjznw6TvHOF"
      }
    },
    {
      "cell_type": "code",
      "source": [
        "lf1=ldat;k=np.array(kvector1)\n",
        "abs0=10000000*4*PI*k/lf1\n",
        "absorcion= interp1d(lf1, abs0)\n",
        "plt.figure(1);plt.plot(ldat,n1(E0,Ed,ldat));plt.ylabel('Indice de refracción');\n",
        "plt.figure(2);plt.plot(ldat,absorcion(ldat));plt.ylabel('Absorción');"
      ],
      "metadata": {
        "id": "In1uUZUH8qBr",
        "colab": {
          "base_uri": "https://localhost:8080/",
          "height": 513
        },
        "outputId": "1a3c6340-9ff0-4937-c2e0-a320e856d60a"
      },
      "execution_count": null,
      "outputs": [
        {
          "output_type": "display_data",
          "data": {
            "text/plain": [
              "<Figure size 432x288 with 1 Axes>"
            ],
            "image/png": "[encoded data removed]"
          },
          "metadata": {
            "needs_background": "light"
          }
        },
        {
          "output_type": "display_data",
          "data": {
            "text/plain": [
              "<Figure size 432x288 with 1 Axes>"
            ],
            "image/png": "[encoded data removed]"
          },
          "metadata": {
            "needs_background": "light"
          }
        }
      ]
    },
    {
      "cell_type": "markdown",
      "source": [
        "### Cálculo del gap energético"
      ],
      "metadata": {
        "id": "n-aGP90jfG74"
      }
    },
    {
      "cell_type": "markdown",
      "source": [
        "Lo primero es graficar $(h\\nu\\alpha)^2$ contra la energía para decidir un intervalo de trabajo"
      ],
      "metadata": {
        "id": "AIHVYGAGfOO_"
      }
    },
    {
      "cell_type": "code",
      "source": [
        "xE=1240/lf1;yE=(1240*abs0/lf1)**2\n",
        "plt.figure(figsize=(9,6));plt.plot(xE,yE,'o',color='orange')"
      ],
      "metadata": {
        "colab": {
          "base_uri": "https://localhost:8080/",
          "height": 402
        },
        "id": "G6482n7AajxN",
        "outputId": "a23cd4fa-a619-47b1-8500-0b1065e432d0"
      },
      "execution_count": null,
      "outputs": [
        {
          "output_type": "execute_result",
          "data": {
            "text/plain": [
              "[<matplotlib.lines.Line2D at 0x7f7fc8bf4590>]"
            ]
          },
          "metadata": {},
          "execution_count": 40
        },
        {
          "output_type": "display_data",
          "data": {
            "text/plain": [
              "<Figure size 648x432 with 1 Axes>"
            ],
            "image/png": "[encoded data removed]"
          },
          "metadata": {
            "needs_background": "light"
          }
        }
      ]
    },
    {
      "cell_type": "markdown",
      "source": [
        "Viendo los resultados se puede elegir un intervalo adecuado para determinar el Gap energético, en este caso por ejemplo un buen intervalo es entre 3.3 y 3.8, para ello se deben cambiar los valores manualmente"
      ],
      "metadata": {
        "id": "tSa7bkVRgnqg"
      }
    },
    {
      "cell_type": "code",
      "source": [
        "Eni = 2.8;\n",
        "Enf = 4.3;"
      ],
      "metadata": {
        "id": "a8I_tXSLbEfq"
      },
      "execution_count": null,
      "outputs": []
    },
    {
      "cell_type": "markdown",
      "source": [
        "Para manipular este gráfico tenga en cuenta dos cosas: 1) Los puntos se cuenta de derecha a izquierda, 2) para que la formula sea valida p1 debe estar siempre a la izquierda de p2, eso se logra haciendo p1 > p2.\n",
        "La gráfica que se muestra en azul corresponde a una regresión lineal del rango de datos seleccionados. Para este ejemplo en particular, los mejores puntos son p1=14 y p2=6"
      ],
      "metadata": {
        "id": "1ng_iDo1iIHe"
      }
    },
    {
      "cell_type": "code",
      "source": [
        "def plot_E(p2, p1):\n",
        "    y=yE[p2-1:p1];x=xE[p2-1:p1]\n",
        "    p = np.polyfit(x, y, 1);poly1d_fn=np.poly1d(p)\n",
        "    fig, ax = plt.subplots(figsize=(12,8))\n",
        "    plt.plot(xE, poly1d_fn(xE), '--b');\n",
        "    plt.plot(xE,yE, 'o',color='orange')\n",
        "    plt.xlim(Eni,Enf);plt.ylim(0.01,yE.max()*(1.1))\n",
        "    for i in range(30):\n",
        "        ax.annotate(i+1, (xE[i], yE[i]), ha=\"left\",color ='grey' )\n",
        "interact(plot_E, p2 = widgets.IntSlider(value=2,min=1,max=30,step=1),p1 = widgets.IntSlider(value=5,min=0,max=30,step=1))"
      ],
      "metadata": {
        "colab": {
          "base_uri": "https://localhost:8080/",
          "height": 534,
          "referenced_widgets": [
            "b71575caeb5c4895aa697d61df2b43f7",
            "371d696bb47040ea8bcf1514ed842fb0",
            "a9f1f362cbf8446b87b29b35ff3655cc",
            "2dce1417a0544590acc10ee06ab3231d",
            "eb5053329c1f49d7ae5b84fb9d1b3079",
            "e54246ff66cc4403807199619f2f0121",
            "62d953d110dc4c459b69bf09cb7d841b",
            "07c30a5da36c48eab56e43e4a37176dc",
            "17f22d2ed59b441e89b4f3e55545032f",
            "e9098046a5734036847afa2df0034533"
          ]
        },
        "id": "tvgVaJPjkCVZ",
        "outputId": "f3c5f4e6-8b16-40e8-f074-223e30877927"
      },
      "execution_count": null,
      "outputs": [
        {
          "output_type": "display_data",
          "data": {
            "text/plain": [
              "interactive(children=(IntSlider(value=2, description='p2', max=30, min=1), IntSlider(value=5, description='p1'…"
            ],
            "application/vnd.jupyter.widget-view+json": {
              "version_major": 2,
              "version_minor": 0,
              "model_id": "b71575caeb5c4895aa697d61df2b43f7"
            }
          },
          "metadata": {}
        },
        {
          "output_type": "execute_result",
          "data": {
            "text/plain": [
              "<function __main__.plot_E(p2, p1)>"
            ]
          },
          "metadata": {},
          "execution_count": 41
        }
      ]
    },
    {
      "cell_type": "markdown",
      "source": [
        "Ingrese el valor de los puntos para los cuales encontró la mejor aproximación de una linea recta"
      ],
      "metadata": {
        "id": "FmrqHNlBswJR"
      }
    },
    {
      "cell_type": "code",
      "source": [
        "p2=5\n",
        "p1=12"
      ],
      "metadata": {
        "id": "ux0IDO1pmq-M"
      },
      "execution_count": null,
      "outputs": []
    },
    {
      "cell_type": "markdown",
      "source": [
        "Ahora se resuelve la recta y se da el valor del Gap"
      ],
      "metadata": {
        "id": "f1e-_MWQSCnu"
      }
    },
    {
      "cell_type": "code",
      "source": [
        "y=yE[p2-1:p1];x=xE[p2-1:p1];p = np.polyfit(x, y, 1);poly1d_fn=np.poly1d(p)\n",
        "GAP = fsolve(poly1d_fn, 1)\n",
        "dec = 3 #CIFRAS DECIMALES\n",
        "print('El Gap de la pelicula es ',round(GAP[0],dec),' eV')\n"
      ],
      "metadata": {
        "colab": {
          "base_uri": "https://localhost:8080/"
        },
        "id": "Sy4o7uios-Tq",
        "outputId": "2e96ef15-2bd8-47e8-a7b4-5fbd8bc91b40"
      },
      "execution_count": null,
      "outputs": [
        {
          "output_type": "stream",
          "name": "stdout",
          "text": [
            "El Gap de la pelicula es  3.409  eV\n"
          ]
        }
      ]
    },
    {
      "cell_type": "markdown",
      "source": [
        "### Exportar los resultados"
      ],
      "metadata": {
        "id": "Yu25IDg6YHn4"
      }
    },
    {
      "cell_type": "markdown",
      "source": [
        "Finalmente se exportan los datos para el espectro simulado, indice de refracción, absorción, los valores de k  y $\\alpha^2$, se crea una carpeta para los datos. Si la carpeta no aparece inmediatamente espere 2 minutos"
      ],
      "metadata": {
        "id": "6niwqHY-dizc"
      }
    },
    {
      "cell_type": "code",
      "source": [
        "datos_Tsimulada=pd.DataFrame({'Long. Onda (nm)' : ldat,'T simulada' : T1(ldat,E0,Ed,d1)}, columns=['Long. Onda (nm)','T simulada'])\n",
        "datos_IndiceRefraccion=pd.DataFrame({'Long. Onda (nm)' : ldat,'Indice Refracción' : n1(E0,Ed,ldat)}, columns=['Long. Onda (nm)','Indice Refracción'])\n",
        "datos_ksimulada=pd.DataFrame({'Long. Onda (nm)' : ldat,'k simulada' : k1(ldat)}, columns=['Long. Onda (nm)','k simulada'])\n",
        "datos_absf=pd.DataFrame({'Long. Onda (nm)' : ldat,'Abs' : abs0}, columns=['Long. Onda (nm)','Abs'])\n",
        "datos_alpha2=pd.DataFrame({'1240/lambda' : xE,'(1240*abs/lambda)^2' : yE}, columns=['1240/lambda','(1240*abs/lambda)^2'])\n",
        "#----------------------------------------------------------------------------------------------------------------------------------------------------\n",
        "Muestra0 = MUESTRA  if datosold == False else 'OLD_MS20';\n",
        "os.mkdir(Muestra0) if path.exists(Muestra0)==False else print('Los archivos para '+Muestra0+' serán sobreescritos')\n",
        "datos_Tsimulada.to_csv(Muestra0+'/'+'Tsimulada_'+Muestra0+'.dat',index=False,sep = ' ')\n",
        "datos_IndiceRefraccion.to_csv(Muestra0+'/'+'IndiceRefraccion_'+Muestra0+'.dat',index=False,sep = ' ')\n",
        "datos_ksimulada.to_csv(Muestra0+'/'+'ksimulada_'+Muestra0+'.dat',index=False,sep = ' ')\n",
        "datos_absf.to_csv(Muestra0+'/'+'absf_'+Muestra0+'.dat',index=False,sep = ' ')\n",
        "datos_alpha2.to_csv(Muestra0+'/'+'alpha2_'+Muestra0+'.dat',index=False,sep = ' ')"
      ],
      "metadata": {
        "id": "GtdFQkGAUL9_"
      },
      "execution_count": null,
      "outputs": []
    },
    {
      "cell_type": "markdown",
      "source": [
        "Estos datos están listos para ser graficados y presentados en Origin."
      ],
      "metadata": {
        "id": "6SR7O3UWmMKK"
      }
    },
    {
      "cell_type": "code",
      "source": [
        "with open(\"GAPyParametros.txt\", \"a+\") as file_object:\n",
        "    # Move read cursor to the start of file.\n",
        "    file_object.seek(0)\n",
        "    # If file is not empty then append '\\n'\n",
        "    data = file_object.read(100)\n",
        "    if len(data) > 0 :\n",
        "        file_object.write(\"\\n\")\n",
        "    # Append text at the end of file\n",
        "    file_object.write(str(Muestra0)+\"  \"+str(E0)+\"  \"+str(Ed)+\"  \"+str(d1)+\"  \"+str(p1)+\"  \"+str(p2)+\"  \"+str(GAP))"
      ],
      "metadata": {
        "id": "ZNxNmgxUhL1X"
      },
      "execution_count": null,
      "outputs": []
    },
    {
      "cell_type": "code",
      "source": [],
      "metadata": {
        "id": "umkbKtM95_sA"
      },
      "execution_count": null,
      "outputs": []
    }
  ]
}