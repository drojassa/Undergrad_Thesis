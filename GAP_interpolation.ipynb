{
  "nbformat": 4,
  "nbformat_minor": 0,
  "metadata": {
    "colab": {
      "provenance": [],
      "authorship_tag": "ABX9TyODTAYG9ykczfYcmqVluBiB",
      "include_colab_link": true
    },
    "kernelspec": {
      "name": "python3",
      "display_name": "Python 3"
    },
    "language_info": {
      "name": "python"
    }
  },
  "cells": [
    {
      "cell_type": "markdown",
      "metadata": {
        "id": "view-in-github",
        "colab_type": "text"
      },
      "source": [
        "<a href=\"https://colab.research.google.com/github/drojassa/Undergrad_Thesis/blob/main/GAP_interpolation.ipynb\" target=\"_parent\"><img src=\"https://colab.research.google.com/assets/colab-badge.svg\" alt=\"Open In Colab\"/></a>"
      ]
    },
    {
      "cell_type": "code",
      "execution_count": null,
      "metadata": {
        "colab": {
          "base_uri": "https://localhost:8080/"
        },
        "id": "fIz15uBMYLXM",
        "outputId": "34c553f5-b5c5-4845-b1df-88f914cae870"
      },
      "outputs": [
        {
          "output_type": "stream",
          "name": "stdout",
          "text": [
            "la recta es  32432242614.64714 *x + -119553161366.39946\n",
            "GAP =  3.68624405\n"
          ]
        }
      ],
      "source": [
        "GAP= 3.68624405\n",
        "x= 4.13333\n",
        "y= 14500000000\n",
        "a=y/(x-GAP)\n",
        "b=-a*GAP\n",
        "print(\"la recta es \", a, \"*x +\", b)\n",
        "print(\"GAP = \",  -b/a)"
      ]
    },
    {
      "cell_type": "code",
      "source": [
        "GAP= 3.53\n",
        "x= 3.81538\n",
        "y= 5340000000\n",
        "a=y/(x-GAP)\n",
        "b=-a*GAP\n",
        "print(\"la recta es \", a, \"*x +\", b)\n",
        "print(\"GAP = \",  -b/a)"
      ],
      "metadata": {
        "colab": {
          "base_uri": "https://localhost:8080/"
        },
        "id": "F8FVFMuNa2JC",
        "outputId": "b5435332-3b89-42d1-b5c1-697a6acd2192"
      },
      "execution_count": null,
      "outputs": [
        {
          "output_type": "stream",
          "name": "stdout",
          "text": [
            "la recta es  18711892914.710182 *x + -66052981988.92694\n",
            "GAP =  3.53\n"
          ]
        }
      ]
    },
    {
      "cell_type": "code",
      "source": [
        "GAP= 3.40990327\n",
        "x=3.70149\n",
        "y= 5490000000\n",
        "a=y/(x-GAP)\n",
        "b=-a*GAP\n",
        "print(\"la recta es \", a, \"*x +\", b)\n",
        "print(\"GAP = \",  -b/a)"
      ],
      "metadata": {
        "colab": {
          "base_uri": "https://localhost:8080/"
        },
        "id": "Ps5NsWM9bTRs",
        "outputId": "0dece934-a767-4377-ebe9-e20ea9e88adc"
      },
      "execution_count": null,
      "outputs": [
        {
          "output_type": "stream",
          "name": "stdout",
          "text": [
            "la recta es  18828017310.6643 *x + -64201717795.2508\n",
            "GAP =  3.40990327\n"
          ]
        }
      ]
    },
    {
      "cell_type": "code",
      "source": [],
      "metadata": {
        "id": "lI8k1-22ePHF"
      },
      "execution_count": null,
      "outputs": []
    }
  ]
}